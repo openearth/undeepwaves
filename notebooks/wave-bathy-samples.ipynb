{
 "cells": [
  {
   "cell_type": "code",
   "execution_count": 2,
   "metadata": {},
   "outputs": [],
   "source": [
    "import itertools\n",
    "import pathlib\n",
    "\n",
    "import numpy as np\n",
    "import pandas as pd\n",
    "import pint\n",
    "\n",
    "import matplotlib.pyplot as plt\n",
    "import matplotlib.colors\n",
    "import pint\n",
    "import scipy.stats\n",
    "import skimage.transform\n",
    "import pyDOE\n",
    "\n",
    "\n",
    "ureg = pint.UnitRegistry()\n",
    "Q_ = ureg.Quantity"
   ]
  },
  {
   "cell_type": "markdown",
   "metadata": {},
   "source": [
    "## Grid \n",
    "We pick a general grid of 256, 256 cells of 10x10 meter. These are constants."
   ]
  },
  {
   "cell_type": "code",
   "execution_count": 3,
   "metadata": {},
   "outputs": [
    {
     "data": {
      "text/plain": [
       "{'n': {'min': 256, 'max': 256, 'type': 'constant'},\n",
       " 'm': {'min': 256, 'max': 256, 'type': 'constant'},\n",
       " 'dx': {'min': 10 <Unit('meter')>,\n",
       "  'max': 10 <Unit('meter')>,\n",
       "  'type': 'constant'},\n",
       " 'dy': {'min': 10 <Unit('meter')>,\n",
       "  'max': 10 <Unit('meter')>,\n",
       "  'type': 'constant'}}"
      ]
     },
     "execution_count": 3,
     "metadata": {},
     "output_type": "execute_result"
    }
   ],
   "source": [
    "n = {\"min\": 256, \"max\": 256, \"type\": \"constant\"}\n",
    "m = {\"min\": 256, \"max\": 256, \"type\": \"constant\"}\n",
    "spacing = {\"min\": 10 * ureg.meter, \"max\": 10 * ureg.meter, 'type': \"constant\"}\n",
    "\n",
    "grid = dict(n=n, m=m, dx=spacing, dy=spacing)\n",
    "grid"
   ]
  },
  {
   "cell_type": "markdown",
   "metadata": {},
   "source": [
    "## Waterlevel\n",
    "We generate water levels varying from 1 to 50 meters. This is enough for wave lengths of up to 100m (similar to ~700km fetch, 60km/h wind, for 30 hours) to not \"feel the bottom\". Bathymetries are subtracted from this level. \n",
    "\n"
   ]
  },
  {
   "cell_type": "code",
   "execution_count": 4,
   "metadata": {},
   "outputs": [],
   "source": [
    "water_level = {\"$\\eta$\": {\"min\": 1 * ureg.meter, \"max\": 50 * ureg.meter, \"type\": \"uniform\"}}"
   ]
  },
  {
   "cell_type": "markdown",
   "metadata": {},
   "source": [
    "## Waves \n",
    "We take a jonswap spectrum where we only vary the modal frequency ($\\omega$) and the wave angle ($\\theta_{wave}$). We compute $\\omega$ based the significant wave height ($\\zeta$). "
   ]
  },
  {
   "cell_type": "code",
   "execution_count": 5,
   "metadata": {},
   "outputs": [
    {
     "data": {
      "text/plain": [
       "{'$\\\\zeta$': {'min': 1 <Unit('meter')>,\n",
       "  'max': 20 <Unit('meter')>,\n",
       "  'type': 'uniform'},\n",
       " '$\\theta_{wave}$': {'min': 0 <Unit('radian')>,\n",
       "  'max': 6.283185307179586 <Unit('radian')>,\n",
       "  'type': 'circular'}}"
      ]
     },
     "execution_count": 5,
     "metadata": {},
     "output_type": "execute_result"
    }
   ],
   "source": [
    "# TODO: Hm0 (modus significant wave height)\n",
    "# TODO: Wave Period \n",
    "# TODO: check wave steilheid als invoer\n",
    "# TODO:  check distribution from measurements\n",
    "\n",
    "\n",
    "# def wave_height_to_omega(wave_height):\n",
    "#     g = Q_(9.81, 'm/s^2')\n",
    "#     omega = 0.4 * np.sqrt(g / wave_height)\n",
    "#     return omega\n",
    "    \n",
    "# waves['$\\omega$'] = {\n",
    "#     \"min\": wave_height_to_omega(waves['$\\zeta$']['min']), \n",
    "#     \"max\": wave_height_to_omega(waves['$\\zeta$']['max']),\n",
    "#     \"type\": \"uniform\"\n",
    "# }\n",
    "waves = {\n",
    "    \"$\\zeta$\": {\"min\": Q_(1, ureg.meter),  \"max\": Q_(20, ureg.meter), \"type\": \"uniform\"},\n",
    "    '$\\theta_{wave}$': {\"min\": Q_(0, ureg.radian), \"max\": Q_(2 * np.pi, ureg.radian), \"type\": \"circular\"}\n",
    "}\n",
    "\n",
    "waves\n"
   ]
  },
  {
   "cell_type": "markdown",
   "metadata": {},
   "source": [
    "## Bathymetry\n",
    "For the bathymetry we have a collection of bathymetries with varying slope and another collection of random sampled bathymetries of around the world. "
   ]
  },
  {
   "cell_type": "code",
   "execution_count": 20,
   "metadata": {},
   "outputs": [],
   "source": [
    "bathy_list = list(pathlib.Path('/').glob('**/*.tif'))\n",
    "\n",
    "bathymetry = {\n",
    "    \"$bathy_i$\": {\"min\": 0, \"max\": 1000, \"type\": \"resample\"}\n",
    "}\n",
    "\n",
    "# \"$\\theta_{bathy, x,y}$\": {\"min\": Q_(0, 'rad'), \"max\": Q_(2 * np.pi, 'rad'), \"type\": \"skip\"}\n"
   ]
  },
  {
   "cell_type": "code",
   "execution_count": 21,
   "metadata": {},
   "outputs": [],
   "source": [
    "parameters = pd.DataFrame(dict(**grid, **waves, **water_level, **bathymetry)).T"
   ]
  },
  {
   "cell_type": "code",
   "execution_count": 22,
   "metadata": {},
   "outputs": [
    {
     "data": {
      "text/html": [
       "<div>\n",
       "<style scoped>\n",
       "    .dataframe tbody tr th:only-of-type {\n",
       "        vertical-align: middle;\n",
       "    }\n",
       "\n",
       "    .dataframe tbody tr th {\n",
       "        vertical-align: top;\n",
       "    }\n",
       "\n",
       "    .dataframe thead th {\n",
       "        text-align: right;\n",
       "    }\n",
       "</style>\n",
       "<table border=\"1\" class=\"dataframe\">\n",
       "  <thead>\n",
       "    <tr style=\"text-align: right;\">\n",
       "      <th></th>\n",
       "      <th>min</th>\n",
       "      <th>max</th>\n",
       "      <th>type</th>\n",
       "    </tr>\n",
       "  </thead>\n",
       "  <tbody>\n",
       "    <tr>\n",
       "      <th>n</th>\n",
       "      <td>256</td>\n",
       "      <td>256</td>\n",
       "      <td>constant</td>\n",
       "    </tr>\n",
       "    <tr>\n",
       "      <th>m</th>\n",
       "      <td>256</td>\n",
       "      <td>256</td>\n",
       "      <td>constant</td>\n",
       "    </tr>\n",
       "    <tr>\n",
       "      <th>dx</th>\n",
       "      <td>10 meter</td>\n",
       "      <td>10 meter</td>\n",
       "      <td>constant</td>\n",
       "    </tr>\n",
       "    <tr>\n",
       "      <th>dy</th>\n",
       "      <td>10 meter</td>\n",
       "      <td>10 meter</td>\n",
       "      <td>constant</td>\n",
       "    </tr>\n",
       "    <tr>\n",
       "      <th>$\\zeta$</th>\n",
       "      <td>1 meter</td>\n",
       "      <td>20 meter</td>\n",
       "      <td>uniform</td>\n",
       "    </tr>\n",
       "    <tr>\n",
       "      <th>$\\theta_{wave}$</th>\n",
       "      <td>0 radian</td>\n",
       "      <td>6.283185307179586 radian</td>\n",
       "      <td>circular</td>\n",
       "    </tr>\n",
       "    <tr>\n",
       "      <th>$\\eta$</th>\n",
       "      <td>1 meter</td>\n",
       "      <td>50 meter</td>\n",
       "      <td>uniform</td>\n",
       "    </tr>\n",
       "    <tr>\n",
       "      <th>$bathy_i$</th>\n",
       "      <td>0</td>\n",
       "      <td>1000</td>\n",
       "      <td>resample</td>\n",
       "    </tr>\n",
       "  </tbody>\n",
       "</table>\n",
       "</div>"
      ],
      "text/plain": [
       "                      min                       max      type\n",
       "n                     256                       256  constant\n",
       "m                     256                       256  constant\n",
       "dx               10 meter                  10 meter  constant\n",
       "dy               10 meter                  10 meter  constant\n",
       "$\\zeta$           1 meter                  20 meter   uniform\n",
       "$\\theta_{wave}$  0 radian  6.283185307179586 radian  circular\n",
       "$\\eta$            1 meter                  50 meter   uniform\n",
       "$bathy_i$               0                      1000  resample"
      ]
     },
     "execution_count": 22,
     "metadata": {},
     "output_type": "execute_result"
    }
   ],
   "source": [
    "parameters"
   ]
  },
  {
   "cell_type": "code",
   "execution_count": 23,
   "metadata": {},
   "outputs": [],
   "source": [
    "def row_to_N(row):\n",
    "    min = None\n",
    "    if isinstance(row['min'], pint.Quantity):\n",
    "        min = row['min'].m\n",
    "    else:\n",
    "        min = row['min']\n",
    "    if isinstance(row['max'], pint.Quantity):\n",
    "        max = row['max'].m\n",
    "    else:\n",
    "        max = row['max']\n",
    "    return matplotlib.colors.Normalize(min, max, clip=True)\n",
    "\n",
    "parameters['N'] = parameters.apply(row_to_N, axis=1)"
   ]
  },
  {
   "cell_type": "code",
   "execution_count": 24,
   "metadata": {},
   "outputs": [],
   "source": [
    "\n",
    "stochastic = parameters.query('type in (\"uniform\", \"circular\", \"resample\")')\n",
    "stochastic\n",
    "\n",
    "\n",
    "n = stochastic.shape[0]\n",
    "samples = 1000\n",
    "# take samples from the cube\n",
    "cube_lhs = pyDOE.lhs(n, samples=samples)\n"
   ]
  },
  {
   "cell_type": "code",
   "execution_count": 25,
   "metadata": {},
   "outputs": [],
   "source": [
    "# all boundaries in normalized space\n",
    "options = [[0, 1] for i in range(n)]\n",
    "bounds = list(itertools.product(*options))\n",
    "\n",
    "# do bounds first and then the filled cube\n",
    "filled_cube = np.r_[bounds, cube_lhs]"
   ]
  },
  {
   "cell_type": "code",
   "execution_count": 29,
   "metadata": {},
   "outputs": [],
   "source": [
    "\n",
    "\n",
    "samples = {}\n",
    "for i, (variable, N) in enumerate(stochastic.N.items()):\n",
    "    normalized_sample = filled_cube[:, i]\n",
    "    sample = N.inverse(normalized_sample)\n",
    "    samples[variable] = sample\n",
    "examples = pd.DataFrame(samples)\n",
    "examples['$bathy_i$'] = np.int32(examples['$bathy_i$'])\n",
    "examples['bathy_file'] = \n",
    "examples.to_hdf('runs.h5', 'runs')\n",
    "    \n",
    "    "
   ]
  },
  {
   "cell_type": "code",
   "execution_count": 30,
   "metadata": {},
   "outputs": [
    {
     "data": {
      "text/html": [
       "<div>\n",
       "<style scoped>\n",
       "    .dataframe tbody tr th:only-of-type {\n",
       "        vertical-align: middle;\n",
       "    }\n",
       "\n",
       "    .dataframe tbody tr th {\n",
       "        vertical-align: top;\n",
       "    }\n",
       "\n",
       "    .dataframe thead th {\n",
       "        text-align: right;\n",
       "    }\n",
       "</style>\n",
       "<table border=\"1\" class=\"dataframe\">\n",
       "  <thead>\n",
       "    <tr style=\"text-align: right;\">\n",
       "      <th></th>\n",
       "      <th>$\\zeta$</th>\n",
       "      <th>$\\theta_{wave}$</th>\n",
       "      <th>$\\eta$</th>\n",
       "      <th>$bathy_i$</th>\n",
       "    </tr>\n",
       "  </thead>\n",
       "  <tbody>\n",
       "    <tr>\n",
       "      <th>0</th>\n",
       "      <td>1.000000</td>\n",
       "      <td>0.000000</td>\n",
       "      <td>1.000000</td>\n",
       "      <td>0</td>\n",
       "    </tr>\n",
       "    <tr>\n",
       "      <th>1</th>\n",
       "      <td>1.000000</td>\n",
       "      <td>0.000000</td>\n",
       "      <td>1.000000</td>\n",
       "      <td>1000</td>\n",
       "    </tr>\n",
       "    <tr>\n",
       "      <th>2</th>\n",
       "      <td>1.000000</td>\n",
       "      <td>0.000000</td>\n",
       "      <td>50.000000</td>\n",
       "      <td>0</td>\n",
       "    </tr>\n",
       "    <tr>\n",
       "      <th>3</th>\n",
       "      <td>1.000000</td>\n",
       "      <td>0.000000</td>\n",
       "      <td>50.000000</td>\n",
       "      <td>1000</td>\n",
       "    </tr>\n",
       "    <tr>\n",
       "      <th>4</th>\n",
       "      <td>1.000000</td>\n",
       "      <td>6.283185</td>\n",
       "      <td>1.000000</td>\n",
       "      <td>0</td>\n",
       "    </tr>\n",
       "    <tr>\n",
       "      <th>...</th>\n",
       "      <td>...</td>\n",
       "      <td>...</td>\n",
       "      <td>...</td>\n",
       "      <td>...</td>\n",
       "    </tr>\n",
       "    <tr>\n",
       "      <th>1011</th>\n",
       "      <td>15.076253</td>\n",
       "      <td>5.781078</td>\n",
       "      <td>6.953107</td>\n",
       "      <td>820</td>\n",
       "    </tr>\n",
       "    <tr>\n",
       "      <th>1012</th>\n",
       "      <td>10.418704</td>\n",
       "      <td>2.338672</td>\n",
       "      <td>35.717032</td>\n",
       "      <td>838</td>\n",
       "    </tr>\n",
       "    <tr>\n",
       "      <th>1013</th>\n",
       "      <td>2.869270</td>\n",
       "      <td>6.078316</td>\n",
       "      <td>13.406769</td>\n",
       "      <td>137</td>\n",
       "    </tr>\n",
       "    <tr>\n",
       "      <th>1014</th>\n",
       "      <td>17.480499</td>\n",
       "      <td>0.195456</td>\n",
       "      <td>18.407262</td>\n",
       "      <td>522</td>\n",
       "    </tr>\n",
       "    <tr>\n",
       "      <th>1015</th>\n",
       "      <td>15.279972</td>\n",
       "      <td>0.630923</td>\n",
       "      <td>16.003012</td>\n",
       "      <td>665</td>\n",
       "    </tr>\n",
       "  </tbody>\n",
       "</table>\n",
       "<p>1016 rows × 4 columns</p>\n",
       "</div>"
      ],
      "text/plain": [
       "        $\\zeta$  $\\theta_{wave}$     $\\eta$  $bathy_i$\n",
       "0      1.000000         0.000000   1.000000          0\n",
       "1      1.000000         0.000000   1.000000       1000\n",
       "2      1.000000         0.000000  50.000000          0\n",
       "3      1.000000         0.000000  50.000000       1000\n",
       "4      1.000000         6.283185   1.000000          0\n",
       "...         ...              ...        ...        ...\n",
       "1011  15.076253         5.781078   6.953107        820\n",
       "1012  10.418704         2.338672  35.717032        838\n",
       "1013   2.869270         6.078316  13.406769        137\n",
       "1014  17.480499         0.195456  18.407262        522\n",
       "1015  15.279972         0.630923  16.003012        665\n",
       "\n",
       "[1016 rows x 4 columns]"
      ]
     },
     "execution_count": 30,
     "metadata": {},
     "output_type": "execute_result"
    }
   ],
   "source": [
    "examples"
   ]
  },
  {
   "cell_type": "code",
   "execution_count": 34,
   "metadata": {},
   "outputs": [
    {
     "data": {
      "text/plain": [
       "<matplotlib.colorbar.Colorbar at 0x12aae6580>"
      ]
     },
     "execution_count": 34,
     "metadata": {},
     "output_type": "execute_result"
    },
    {
     "data": {
      "image/png": "[encoded data removed]",
      "text/plain": [
       "<Figure size 432x288 with 2 Axes>"
      ]
     },
     "metadata": {
      "needs_background": "light"
     },
     "output_type": "display_data"
    }
   ],
   "source": [
    "\n",
    "\n",
    "def create_bathy(rot_z, rot_xy=0):\n",
    "    width = 256\n",
    "    dx = 10\n",
    "    hw = int(width / 2)\n",
    "    op_by_adj = np.tan(np.deg2rad(rot_z))\n",
    "    height = op_by_adj * np.arange(width * 2) * dx\n",
    "    z = np.tile(height, [width * 2, 1])\n",
    "    rotated = skimage.transform.rotate(z, rot_xy)\n",
    "    center_s = np.s_[hw:2*width-hw, hw:2*width-hw]\n",
    "    z_rot = rotated[center_s]\n",
    "    z_rot = z_rot - np.mean(z_rot)\n",
    "    return z_rot\n",
    "\n",
    "rot_z = 10\n",
    "rot_xy = 0\n",
    "dx = 10\n",
    "\n",
    "z = create_bathy(rot_z=rot_z, rot_xy=rot_xy)\n",
    "plt.imshow(z)\n",
    "plt.colorbar()"
   ]
  },
  {
   "cell_type": "code",
   "execution_count": 18,
   "metadata": {},
   "outputs": [
    {
     "data": {
      "text/plain": [
       "9.715441658128894"
      ]
     },
     "execution_count": 18,
     "metadata": {},
     "output_type": "execute_result"
    }
   ],
   "source": [
    "np.rad2deg(np.tan(430/2560))"
   ]
  },
  {
   "cell_type": "code",
   "execution_count": null,
   "metadata": {},
   "outputs": [],
   "source": []
  }
 ],
 "metadata": {
  "kernelspec": {
   "display_name": "Python 3",
   "language": "python",
   "name": "python3"
  },
  "language_info": {
   "codemirror_mode": {
    "name": "ipython",
    "version": 3
   },
   "file_extension": ".py",
   "mimetype": "text/x-python",
   "name": "python",
   "nbconvert_exporter": "python",
   "pygments_lexer": "ipython3",
   "version": "3.7.4"
  }
 },
 "nbformat": 4,
 "nbformat_minor": 4
}
