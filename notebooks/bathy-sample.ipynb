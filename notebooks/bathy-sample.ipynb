{
 "cells": [
  {
   "cell_type": "code",
   "execution_count": 1,
   "metadata": {},
   "outputs": [],
   "source": [
    "import ee"
   ]
  },
  {
   "cell_type": "code",
   "execution_count": 3,
   "metadata": {},
   "outputs": [],
   "source": [
    "ee.Initialize()"
   ]
  },
  {
   "cell_type": "code",
   "execution_count": 38,
   "metadata": {},
   "outputs": [
    {
     "name": "stdout",
     "output_type": "stream",
     "text": [
      "{'geodesic': False, 'type': 'Polygon', 'coordinates': [[[-174.52128906250002, 2.61899508391546], [164.38496093749998, 2.61899508391546], [164.38496093749998, 79.52559147277664], [-174.52128906250002, 79.52559147277664], [-174.52128906250002, 2.61899508391546]]]}\n"
     ]
    }
   ],
   "source": [
    "gebco = ee.Image(\"users/gena/GEBCO_2014_2D\")\n",
    "emodnet = ee.Image(\"users/gena/EMODNET\")\n",
    "geom =  ee.Geometry.Polygon([\n",
    "    [\n",
    "            [-174.52128906250002, 79.52559147277664],\n",
    "            [-174.52128906250002, 2.61899508391546],\n",
    "            [164.38496093749998, 2.61899508391546],\n",
    "            [164.38496093749998, 79.52559147277664]\n",
    "        ]\n",
    "    ], \n",
    "    None, \n",
    "    False\n",
    ")\n",
    "print(geom.getInfo())\n",
    "land = ee.Image(\"users/gena/land_polygons_image\")\n",
    "\n",
    "bathy = gebco"
   ]
  },
  {
   "cell_type": "code",
   "execution_count": 41,
   "metadata": {},
   "outputs": [
    {
     "name": "stdout",
     "output_type": "stream",
     "text": [
      "1125\n"
     ]
    }
   ],
   "source": [
    "# Units in m\n",
    "# Upsample (bathy is rather coarse, so we make scale a bit)\n",
    "upsample = 10\n",
    "\n",
    "resolution = 10\n",
    "\n",
    "tileSize = 256 * resolution * upsample\n",
    "radius = tileSize / 2\n",
    "\n",
    "# focal max -> buffer with 5px  -> 250000 / 50 ->  500m -> 2500m buffer.\n",
    "# use 500m resolution for buffer\n",
    "landDilated = land.mask().focal_max(5).reproject(**{ \"crs\": 'EPSG:4326', \"scale\": radius / 5 })\n",
    "\n",
    "# lookup region where bathy is undeep  and not above SL and not in buffered land polygon\n",
    "mask = (\n",
    "    bathy\n",
    "    .gt(-50)\n",
    "    .And(bathy.lt(-1))\n",
    "    .And(landDilated.Not())\n",
    ")\n",
    "\n",
    "# Create a large number of samples\n",
    "# Filter samples by region\n",
    "# Like computing pi by throwing darts at a dartboard in a square.... \n",
    "# but then less efficient.\n",
    "samples = (\n",
    "    bathy\n",
    "    .updateMask(mask)\n",
    "    # divide by the factor \n",
    "    .divide(upsample)\n",
    "    .sample(**{ \n",
    "        \"region\": geom.getInfo(), \n",
    "        'scale': 1000, \n",
    "        \"numPixels\": 50000, \n",
    "        \"seed\": 42, \n",
    "        \"dropNulls\": True, \n",
    "        \"geometries\": True\n",
    "    })\n",
    ")\n",
    "\n",
    "print(samples.size().getInfo())\n",
    "\n",
    "# Draw boxes around the buffer (consider sampling by sqrt(2) and  then sampling rotated)\n",
    "def draw_box(f):\n",
    "    return f.buffer(radius).bounds()\n",
    "export_rects = samples.map(draw_box)\n",
    "\n",
    "\n",
    "# Export tile to bucket\n",
    "def export_dem(i, bounds):\n",
    "    task = ee.batch.Export.image.toDrive(**{\n",
    "        \"image\": bathy, \n",
    "        \"description\": f'bathymetry-{i}', \n",
    "        \"folder\": 'bathymetry-random-tiles', \n",
    "        \"fileNamePrefix\": f'bathymetry-{i}', \n",
    "        \"dimensions\": '256x256', \n",
    "        \"region\": bounds, \n",
    "    })\n",
    "    return task\n",
    "\n",
    "\n",
    "export_rects_list = export_rects.toList(export_rects.size())\n",
    "\n",
    "def export_dem_feature(i):\n",
    "    task = export_dem(i, ee.Feature(export_rects_list.get(i)).geometry())\n",
    "    return task\n",
    "\n",
    "tasks = []\n",
    "for f in ee.List.sequence(0, export_rects.size()).getInfo():\n",
    "    task = export_dem_feature(f)\n",
    "    tasks.append(task)"
   ]
  },
  {
   "cell_type": "code",
   "execution_count": 42,
   "metadata": {},
   "outputs": [],
   "source": [
    "for task in tasks[:10]:\n",
    "    task.start()"
   ]
  },
  {
   "cell_type": "code",
   "execution_count": null,
   "metadata": {},
   "outputs": [],
   "source": []
  }
 ],
 "metadata": {
  "kernelspec": {
   "display_name": "Python 3",
   "language": "python",
   "name": "python3"
  },
  "language_info": {
   "codemirror_mode": {
    "name": "ipython",
    "version": 3
   },
   "file_extension": ".py",
   "mimetype": "text/x-python",
   "name": "python",
   "nbconvert_exporter": "python",
   "pygments_lexer": "ipython3",
   "version": "3.8.8"
  }
 },
 "nbformat": 4,
 "nbformat_minor": 4
}
