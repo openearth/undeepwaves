{
 "cells": [
  {
   "cell_type": "code",
   "execution_count": 5,
   "metadata": {},
   "outputs": [],
   "source": [
    "import ee"
   ]
  },
  {
   "cell_type": "code",
   "execution_count": 22,
   "metadata": {},
   "outputs": [],
   "source": [
    "dataset = \"emodnet\"\n"
   ]
  },
  {
   "cell_type": "code",
   "execution_count": 23,
   "metadata": {},
   "outputs": [],
   "source": [
    "ee.Initialize()"
   ]
  },
  {
   "cell_type": "code",
   "execution_count": 28,
   "metadata": {},
   "outputs": [
    {
     "name": "stdout",
     "output_type": "stream",
     "text": [
      "{'geodesic': False, 'type': 'Polygon', 'coordinates': [[[-174.52128906250002, 2.61899508391546], [164.38496093749998, 2.61899508391546], [164.38496093749998, 79.52559147277664], [-174.52128906250002, 79.52559147277664], [-174.52128906250002, 2.61899508391546]]]}\n"
     ]
    }
   ],
   "source": [
    "geom =  ee.Geometry.Polygon([\n",
    "    [\n",
    "            [-174.52128906250002, 79.52559147277664],\n",
    "            [-174.52128906250002, 2.61899508391546],\n",
    "            [164.38496093749998, 2.61899508391546],\n",
    "            [164.38496093749998, 79.52559147277664]\n",
    "        ]\n",
    "    ], \n",
    "    None, \n",
    "    False\n",
    ")\n",
    "print(geom.getInfo())\n",
    "land = ee.Image(\"users/gena/land_polygons_image\")\n",
    "bathys = {\n",
    "    \"gebco\": ee.Image(\"users/gena/GEBCO_2014_2D\"),\n",
    "    \"emodnet\": ee.Image(\"users/gena/EMODNET\")\n",
    "}\n",
    "\n",
    "bathy = bathys[dataset]\n",
    "batch = 3\n",
    "bucket_folder = dataset"
   ]
  },
  {
   "cell_type": "code",
   "execution_count": 29,
   "metadata": {},
   "outputs": [
    {
     "name": "stdout",
     "output_type": "stream",
     "text": [
      "112\n"
     ]
    }
   ],
   "source": [
    "# Units in m\n",
    "# Upsample (bathy is rather coarse, so we make scale a bit)\n",
    "upsample = 10\n",
    "\n",
    "resolution = 10\n",
    "\n",
    "tileSize = 256 * resolution * upsample\n",
    "radius = tileSize / 2\n",
    "\n",
    "# focal max -> buffer with 5px  -> 250000 / 50 ->  500m -> 2500m buffer.\n",
    "# use 500m resolution for buffer\n",
    "landDilated = land.mask().focal_max(5).reproject(**{ \"crs\": 'EPSG:4326', \"scale\": radius / 5 })\n",
    "\n",
    "# lookup region where bathy is undeep  and not above SL and not in buffered land polygon\n",
    "mask = (\n",
    "    bathy\n",
    "    .gt(-50)\n",
    "    .And(bathy.lt(-1))\n",
    "    .And(landDilated.Not())\n",
    ")\n",
    "\n",
    "# Create a large number of samples\n",
    "# Filter samples by region\n",
    "# Like computing pi by throwing darts at a dartboard in a square.... \n",
    "# but then less efficient.\n",
    "samples = (\n",
    "    bathy\n",
    "    .updateMask(mask)\n",
    "    # divide by the factor \n",
    "    .divide(upsample)\n",
    "    .sample(**{ \n",
    "        \"region\": geom.getInfo(), \n",
    "        'scale': 1000, \n",
    "        \"numPixels\": 50000, \n",
    "        \"seed\": 42 + batch, \n",
    "        \"dropNulls\": True, \n",
    "        \"geometries\": True\n",
    "    })\n",
    ")\n",
    "\n",
    "print(samples.size().getInfo())\n",
    "\n",
    "# Draw boxes around the buffer (consider sampling by sqrt(2) and  then sampling rotated)\n",
    "def draw_box(f):\n",
    "    return f.buffer(radius).bounds()\n",
    "export_rects = samples.map(draw_box)\n",
    "\n",
    "\n",
    "# Export tile to bucket\n",
    "def export_dem(i, bounds):\n",
    "    task = ee.batch.Export.image.toCloudStorage(**{\n",
    "        \"image\": bathy, \n",
    "        \"description\": f'bathymetry-{i + batch * 10000}',\n",
    "        \"bucket\": 'bathy_sample',\n",
    "        \"fileNamePrefix\": f'{bucket_folder}/bathymetry-{i + batch * 10000}', \n",
    "        \"dimensions\": '256x256', \n",
    "        \"region\": bounds, \n",
    "    })\n",
    "    return task\n",
    "\n",
    "export_rects_list = export_rects.toList(export_rects.size())\n",
    "\n",
    "def export_dem_feature(i):\n",
    "    task = export_dem(i, ee.Feature(export_rects_list.get(i)).geometry())\n",
    "    return task\n",
    "\n",
    "tasks = []\n",
    "for f in ee.List.sequence(0, export_rects.size()).getInfo():\n",
    "    task = export_dem_feature(f)\n",
    "    tasks.append(task)"
   ]
  },
  {
   "cell_type": "code",
   "execution_count": 30,
   "metadata": {},
   "outputs": [],
   "source": [
    "for task in tasks:\n",
    "    task.start()"
   ]
  },
  {
   "cell_type": "code",
   "execution_count": 27,
   "metadata": {},
   "outputs": [
    {
     "name": "stdout",
     "output_type": "stream",
     "text": [
      "{'state': 'READY', 'description': 'bathymetry-20000', 'creation_timestamp_ms': 1625570405611, 'update_timestamp_ms': 1625570405611, 'start_timestamp_ms': 0, 'task_type': 'EXPORT_IMAGE', 'id': 'Y2YER3QAKAB5WCH6XG62NT6Z', 'name': 'projects/earthengine-legacy/operations/Y2YER3QAKAB5WCH6XG62NT6Z'}\n",
      "{'state': 'READY', 'description': 'bathymetry-20001', 'creation_timestamp_ms': 1625570406446, 'update_timestamp_ms': 1625570406446, 'start_timestamp_ms': 0, 'task_type': 'EXPORT_IMAGE', 'id': 'IBJW4VW3ZADTK7OQEOLTCTR2', 'name': 'projects/earthengine-legacy/operations/IBJW4VW3ZADTK7OQEOLTCTR2'}\n",
      "{'state': 'READY', 'description': 'bathymetry-20002', 'creation_timestamp_ms': 1625570406907, 'update_timestamp_ms': 1625570406907, 'start_timestamp_ms': 0, 'task_type': 'EXPORT_IMAGE', 'id': 'KS2YF2TSDNSHIA5NK5RNLQ6U', 'name': 'projects/earthengine-legacy/operations/KS2YF2TSDNSHIA5NK5RNLQ6U'}\n",
      "{'state': 'READY', 'description': 'bathymetry-20003', 'creation_timestamp_ms': 1625570407333, 'update_timestamp_ms': 1625570407333, 'start_timestamp_ms': 0, 'task_type': 'EXPORT_IMAGE', 'id': 'UVR4Q73JAR6KVPKQ5XUXGSYD', 'name': 'projects/earthengine-legacy/operations/UVR4Q73JAR6KVPKQ5XUXGSYD'}\n",
      "{'state': 'READY', 'description': 'bathymetry-20004', 'creation_timestamp_ms': 1625570407801, 'update_timestamp_ms': 1625570407801, 'start_timestamp_ms': 0, 'task_type': 'EXPORT_IMAGE', 'id': 'S3TTVO7MYGYNNSIIAKM6N6O6', 'name': 'projects/earthengine-legacy/operations/S3TTVO7MYGYNNSIIAKM6N6O6'}\n",
      "{'state': 'READY', 'description': 'bathymetry-20005', 'creation_timestamp_ms': 1625570408235, 'update_timestamp_ms': 1625570408235, 'start_timestamp_ms': 0, 'task_type': 'EXPORT_IMAGE', 'id': 'V7CMFOLMRAAGIFJ4GBN7FES4', 'name': 'projects/earthengine-legacy/operations/V7CMFOLMRAAGIFJ4GBN7FES4'}\n",
      "{'state': 'READY', 'description': 'bathymetry-20006', 'creation_timestamp_ms': 1625570408659, 'update_timestamp_ms': 1625570408659, 'start_timestamp_ms': 0, 'task_type': 'EXPORT_IMAGE', 'id': 'C3QBYW6RUTUFS3TOL757YDEH', 'name': 'projects/earthengine-legacy/operations/C3QBYW6RUTUFS3TOL757YDEH'}\n",
      "{'state': 'READY', 'description': 'bathymetry-20007', 'creation_timestamp_ms': 1625570409126, 'update_timestamp_ms': 1625570409126, 'start_timestamp_ms': 0, 'task_type': 'EXPORT_IMAGE', 'id': 'IE74PWKMTKPXL3DQTIOCJ3MN', 'name': 'projects/earthengine-legacy/operations/IE74PWKMTKPXL3DQTIOCJ3MN'}\n",
      "{'state': 'READY', 'description': 'bathymetry-20008', 'creation_timestamp_ms': 1625570409622, 'update_timestamp_ms': 1625570409622, 'start_timestamp_ms': 0, 'task_type': 'EXPORT_IMAGE', 'id': 'GPALHZB46CDDBGMQYQ3N2HYT', 'name': 'projects/earthengine-legacy/operations/GPALHZB46CDDBGMQYQ3N2HYT'}\n",
      "{'state': 'READY', 'description': 'bathymetry-20009', 'creation_timestamp_ms': 1625570410095, 'update_timestamp_ms': 1625570410095, 'start_timestamp_ms': 0, 'task_type': 'EXPORT_IMAGE', 'id': 'SHEI6VQB46LCOCWIKPR2HEVW', 'name': 'projects/earthengine-legacy/operations/SHEI6VQB46LCOCWIKPR2HEVW'}\n",
      "{'state': 'READY', 'description': 'bathymetry-20010', 'creation_timestamp_ms': 1625570410628, 'update_timestamp_ms': 1625570410628, 'start_timestamp_ms': 0, 'task_type': 'EXPORT_IMAGE', 'id': 'DIYYTO2JBCD7F5NTBZOMNZKZ', 'name': 'projects/earthengine-legacy/operations/DIYYTO2JBCD7F5NTBZOMNZKZ'}\n",
      "{'state': 'READY', 'description': 'bathymetry-20011', 'creation_timestamp_ms': 1625570411104, 'update_timestamp_ms': 1625570411104, 'start_timestamp_ms': 0, 'task_type': 'EXPORT_IMAGE', 'id': 'EAVGS3EJZMUZHURL3YZUQKNP', 'name': 'projects/earthengine-legacy/operations/EAVGS3EJZMUZHURL3YZUQKNP'}\n",
      "{'state': 'READY', 'description': 'bathymetry-20012', 'creation_timestamp_ms': 1625570411621, 'update_timestamp_ms': 1625570411621, 'start_timestamp_ms': 0, 'task_type': 'EXPORT_IMAGE', 'id': 'FY6ZNC2H7JCBG7SWACDQWYJ6', 'name': 'projects/earthengine-legacy/operations/FY6ZNC2H7JCBG7SWACDQWYJ6'}\n",
      "{'state': 'READY', 'description': 'bathymetry-20013', 'creation_timestamp_ms': 1625570412035, 'update_timestamp_ms': 1625570412035, 'start_timestamp_ms': 0, 'task_type': 'EXPORT_IMAGE', 'id': 'FILVWSK5MM4WOLZHE3MJXY6Z', 'name': 'projects/earthengine-legacy/operations/FILVWSK5MM4WOLZHE3MJXY6Z'}\n",
      "{'state': 'READY', 'description': 'bathymetry-20014', 'creation_timestamp_ms': 1625570412475, 'update_timestamp_ms': 1625570412475, 'start_timestamp_ms': 0, 'task_type': 'EXPORT_IMAGE', 'id': 'PHWKPM2B4EZGUQX4CZAUQNQ4', 'name': 'projects/earthengine-legacy/operations/PHWKPM2B4EZGUQX4CZAUQNQ4'}\n",
      "{'state': 'READY', 'description': 'bathymetry-20015', 'creation_timestamp_ms': 1625570412877, 'update_timestamp_ms': 1625570412877, 'start_timestamp_ms': 0, 'task_type': 'EXPORT_IMAGE', 'id': 'M7E4DRSHWTKQFV5DVWAFM32C', 'name': 'projects/earthengine-legacy/operations/M7E4DRSHWTKQFV5DVWAFM32C'}\n",
      "{'state': 'READY', 'description': 'bathymetry-20016', 'creation_timestamp_ms': 1625570413312, 'update_timestamp_ms': 1625570413312, 'start_timestamp_ms': 0, 'task_type': 'EXPORT_IMAGE', 'id': 'DZSEP5NKBF4RUZRDDLQHDXMX', 'name': 'projects/earthengine-legacy/operations/DZSEP5NKBF4RUZRDDLQHDXMX'}\n",
      "{'state': 'READY', 'description': 'bathymetry-20017', 'creation_timestamp_ms': 1625570413788, 'update_timestamp_ms': 1625570413788, 'start_timestamp_ms': 0, 'task_type': 'EXPORT_IMAGE', 'id': '2TQYVCPPI3RG6Q4LJIDONFJZ', 'name': 'projects/earthengine-legacy/operations/2TQYVCPPI3RG6Q4LJIDONFJZ'}\n",
      "{'state': 'READY', 'description': 'bathymetry-20018', 'creation_timestamp_ms': 1625570414211, 'update_timestamp_ms': 1625570414211, 'start_timestamp_ms': 0, 'task_type': 'EXPORT_IMAGE', 'id': 'QCGL3EDHUEEBUQXEJ22BZ7TB', 'name': 'projects/earthengine-legacy/operations/QCGL3EDHUEEBUQXEJ22BZ7TB'}\n",
      "{'state': 'READY', 'description': 'bathymetry-20019', 'creation_timestamp_ms': 1625570414678, 'update_timestamp_ms': 1625570414678, 'start_timestamp_ms': 0, 'task_type': 'EXPORT_IMAGE', 'id': 'S3OSPHDNK3PHTQM6N42HSZXG', 'name': 'projects/earthengine-legacy/operations/S3OSPHDNK3PHTQM6N42HSZXG'}\n",
      "{'state': 'READY', 'description': 'bathymetry-20020', 'creation_timestamp_ms': 1625570416708, 'update_timestamp_ms': 1625570416708, 'start_timestamp_ms': 0, 'task_type': 'EXPORT_IMAGE', 'id': '5LKVP25U2MQNAX7J4QJRHJEK', 'name': 'projects/earthengine-legacy/operations/5LKVP25U2MQNAX7J4QJRHJEK'}\n",
      "{'state': 'READY', 'description': 'bathymetry-20021', 'creation_timestamp_ms': 1625570417200, 'update_timestamp_ms': 1625570417200, 'start_timestamp_ms': 0, 'task_type': 'EXPORT_IMAGE', 'id': 'Q7KWP6LKQFVZE2ED3YIEPY4L', 'name': 'projects/earthengine-legacy/operations/Q7KWP6LKQFVZE2ED3YIEPY4L'}\n",
      "{'state': 'READY', 'description': 'bathymetry-20022', 'creation_timestamp_ms': 1625570417614, 'update_timestamp_ms': 1625570417614, 'start_timestamp_ms': 0, 'task_type': 'EXPORT_IMAGE', 'id': 'UYD32PC7LNMGU2VPIFSYRWZR', 'name': 'projects/earthengine-legacy/operations/UYD32PC7LNMGU2VPIFSYRWZR'}\n",
      "{'state': 'READY', 'description': 'bathymetry-20023', 'creation_timestamp_ms': 1625570418117, 'update_timestamp_ms': 1625570418117, 'start_timestamp_ms': 0, 'task_type': 'EXPORT_IMAGE', 'id': 'T3STQQKKVQRW4IYNI3Z7E2ZS', 'name': 'projects/earthengine-legacy/operations/T3STQQKKVQRW4IYNI3Z7E2ZS'}\n",
      "{'state': 'READY', 'description': 'bathymetry-20024', 'creation_timestamp_ms': 1625570418617, 'update_timestamp_ms': 1625570418617, 'start_timestamp_ms': 0, 'task_type': 'EXPORT_IMAGE', 'id': '7HBY7HYADAVE5Y7OYYAUYDJ2', 'name': 'projects/earthengine-legacy/operations/7HBY7HYADAVE5Y7OYYAUYDJ2'}\n",
      "{'state': 'READY', 'description': 'bathymetry-20025', 'creation_timestamp_ms': 1625570419084, 'update_timestamp_ms': 1625570419084, 'start_timestamp_ms': 0, 'task_type': 'EXPORT_IMAGE', 'id': '753OFKCKEA23RDTPRTCCLMYV', 'name': 'projects/earthengine-legacy/operations/753OFKCKEA23RDTPRTCCLMYV'}\n",
      "{'state': 'READY', 'description': 'bathymetry-20026', 'creation_timestamp_ms': 1625570419466, 'update_timestamp_ms': 1625570419466, 'start_timestamp_ms': 0, 'task_type': 'EXPORT_IMAGE', 'id': 'ZCDO37MQPV4UEHKT7BPTBTRW', 'name': 'projects/earthengine-legacy/operations/ZCDO37MQPV4UEHKT7BPTBTRW'}\n",
      "{'state': 'READY', 'description': 'bathymetry-20027', 'creation_timestamp_ms': 1625570419922, 'update_timestamp_ms': 1625570419922, 'start_timestamp_ms': 0, 'task_type': 'EXPORT_IMAGE', 'id': 'H3FENOETBHC2R5OMAUWLVFNT', 'name': 'projects/earthengine-legacy/operations/H3FENOETBHC2R5OMAUWLVFNT'}\n"
     ]
    },
    {
     "name": "stdout",
     "output_type": "stream",
     "text": [
      "{'state': 'READY', 'description': 'bathymetry-20028', 'creation_timestamp_ms': 1625570420436, 'update_timestamp_ms': 1625570420436, 'start_timestamp_ms': 0, 'task_type': 'EXPORT_IMAGE', 'id': 'LFIBHZECYQ2US7BWAFIG7S6L', 'name': 'projects/earthengine-legacy/operations/LFIBHZECYQ2US7BWAFIG7S6L'}\n",
      "{'state': 'READY', 'description': 'bathymetry-20029', 'creation_timestamp_ms': 1625570420861, 'update_timestamp_ms': 1625570420861, 'start_timestamp_ms': 0, 'task_type': 'EXPORT_IMAGE', 'id': 'RBQPAK3GBZFMPPDC4LACUZ4H', 'name': 'projects/earthengine-legacy/operations/RBQPAK3GBZFMPPDC4LACUZ4H'}\n",
      "{'state': 'READY', 'description': 'bathymetry-20030', 'creation_timestamp_ms': 1625570421306, 'update_timestamp_ms': 1625570421306, 'start_timestamp_ms': 0, 'task_type': 'EXPORT_IMAGE', 'id': 'CAPCDQKWHMH237RQYN4BUUFE', 'name': 'projects/earthengine-legacy/operations/CAPCDQKWHMH237RQYN4BUUFE'}\n",
      "{'state': 'READY', 'description': 'bathymetry-20031', 'creation_timestamp_ms': 1625570421741, 'update_timestamp_ms': 1625570421741, 'start_timestamp_ms': 0, 'task_type': 'EXPORT_IMAGE', 'id': '6YC4XVWVO2XORFGNQFQFEGFK', 'name': 'projects/earthengine-legacy/operations/6YC4XVWVO2XORFGNQFQFEGFK'}\n",
      "{'state': 'READY', 'description': 'bathymetry-20032', 'creation_timestamp_ms': 1625570422241, 'update_timestamp_ms': 1625570422241, 'start_timestamp_ms': 0, 'task_type': 'EXPORT_IMAGE', 'id': 'EK7H6IM4DVPQAEXH7LMN7MFU', 'name': 'projects/earthengine-legacy/operations/EK7H6IM4DVPQAEXH7LMN7MFU'}\n",
      "{'state': 'READY', 'description': 'bathymetry-20033', 'creation_timestamp_ms': 1625570422782, 'update_timestamp_ms': 1625570422782, 'start_timestamp_ms': 0, 'task_type': 'EXPORT_IMAGE', 'id': 'VS4U4TZBAYDPLWJHTODVHJT7', 'name': 'projects/earthengine-legacy/operations/VS4U4TZBAYDPLWJHTODVHJT7'}\n",
      "{'state': 'READY', 'description': 'bathymetry-20034', 'creation_timestamp_ms': 1625570423368, 'update_timestamp_ms': 1625570423368, 'start_timestamp_ms': 0, 'task_type': 'EXPORT_IMAGE', 'id': 'VMEW4U2CJJE3E2OKN2W4GHOK', 'name': 'projects/earthengine-legacy/operations/VMEW4U2CJJE3E2OKN2W4GHOK'}\n",
      "{'state': 'READY', 'description': 'bathymetry-20035', 'creation_timestamp_ms': 1625570423938, 'update_timestamp_ms': 1625570423938, 'start_timestamp_ms': 0, 'task_type': 'EXPORT_IMAGE', 'id': 'ONZJCF6BFWZUAEGCG5P4LD5U', 'name': 'projects/earthengine-legacy/operations/ONZJCF6BFWZUAEGCG5P4LD5U'}\n",
      "{'state': 'READY', 'description': 'bathymetry-20036', 'creation_timestamp_ms': 1625570424407, 'update_timestamp_ms': 1625570424407, 'start_timestamp_ms': 0, 'task_type': 'EXPORT_IMAGE', 'id': 'I24VT2FZTWAQBIRGWSMQCGNN', 'name': 'projects/earthengine-legacy/operations/I24VT2FZTWAQBIRGWSMQCGNN'}\n",
      "{'state': 'READY', 'description': 'bathymetry-20037', 'creation_timestamp_ms': 1625570424910, 'update_timestamp_ms': 1625570424910, 'start_timestamp_ms': 0, 'task_type': 'EXPORT_IMAGE', 'id': 'E7G7LJ6D2AXFGAJ7JMEGJAE2', 'name': 'projects/earthengine-legacy/operations/E7G7LJ6D2AXFGAJ7JMEGJAE2'}\n",
      "{'state': 'READY', 'description': 'bathymetry-20038', 'creation_timestamp_ms': 1625570425398, 'update_timestamp_ms': 1625570425398, 'start_timestamp_ms': 0, 'task_type': 'EXPORT_IMAGE', 'id': 'WLICMRJDKO4QPD6NBCBAG7DE', 'name': 'projects/earthengine-legacy/operations/WLICMRJDKO4QPD6NBCBAG7DE'}\n",
      "{'state': 'READY', 'description': 'bathymetry-20039', 'creation_timestamp_ms': 1625570425789, 'update_timestamp_ms': 1625570425789, 'start_timestamp_ms': 0, 'task_type': 'EXPORT_IMAGE', 'id': 'NR2CTGTFQBMZCD7GXNND6623', 'name': 'projects/earthengine-legacy/operations/NR2CTGTFQBMZCD7GXNND6623'}\n",
      "{'state': 'READY', 'description': 'bathymetry-20040', 'creation_timestamp_ms': 1625570426249, 'update_timestamp_ms': 1625570426249, 'start_timestamp_ms': 0, 'task_type': 'EXPORT_IMAGE', 'id': 'TQS5C3OLLLMPCDL4HZJWEVWI', 'name': 'projects/earthengine-legacy/operations/TQS5C3OLLLMPCDL4HZJWEVWI'}\n",
      "{'state': 'READY', 'description': 'bathymetry-20041', 'creation_timestamp_ms': 1625570426774, 'update_timestamp_ms': 1625570426774, 'start_timestamp_ms': 0, 'task_type': 'EXPORT_IMAGE', 'id': 'PAOWVIEGX7UWDUBZKEHZUN4E', 'name': 'projects/earthengine-legacy/operations/PAOWVIEGX7UWDUBZKEHZUN4E'}\n",
      "{'state': 'READY', 'description': 'bathymetry-20042', 'creation_timestamp_ms': 1625570427244, 'update_timestamp_ms': 1625570427244, 'start_timestamp_ms': 0, 'task_type': 'EXPORT_IMAGE', 'id': 'OZ7JDSETOHYRV4QMCRT7AO7Q', 'name': 'projects/earthengine-legacy/operations/OZ7JDSETOHYRV4QMCRT7AO7Q'}\n",
      "{'state': 'READY', 'description': 'bathymetry-20043', 'creation_timestamp_ms': 1625570427749, 'update_timestamp_ms': 1625570427749, 'start_timestamp_ms': 0, 'task_type': 'EXPORT_IMAGE', 'id': 'TNOH4SSH2GVGRIAQCFKHU4IV', 'name': 'projects/earthengine-legacy/operations/TNOH4SSH2GVGRIAQCFKHU4IV'}\n",
      "{'state': 'READY', 'description': 'bathymetry-20044', 'creation_timestamp_ms': 1625570428199, 'update_timestamp_ms': 1625570428199, 'start_timestamp_ms': 0, 'task_type': 'EXPORT_IMAGE', 'id': 'HS3YCNSGJXK7HHS67JT6JVIQ', 'name': 'projects/earthengine-legacy/operations/HS3YCNSGJXK7HHS67JT6JVIQ'}\n",
      "{'state': 'READY', 'description': 'bathymetry-20045', 'creation_timestamp_ms': 1625570428610, 'update_timestamp_ms': 1625570428610, 'start_timestamp_ms': 0, 'task_type': 'EXPORT_IMAGE', 'id': 'IHH2LDWWGU7JWMP3V4BXN4TN', 'name': 'projects/earthengine-legacy/operations/IHH2LDWWGU7JWMP3V4BXN4TN'}\n",
      "{'state': 'READY', 'description': 'bathymetry-20046', 'creation_timestamp_ms': 1625570429046, 'update_timestamp_ms': 1625570429046, 'start_timestamp_ms': 0, 'task_type': 'EXPORT_IMAGE', 'id': 'QHVOIW4IWF5YQJG3IXI6QFLG', 'name': 'projects/earthengine-legacy/operations/QHVOIW4IWF5YQJG3IXI6QFLG'}\n",
      "{'state': 'READY', 'description': 'bathymetry-20047', 'creation_timestamp_ms': 1625570429462, 'update_timestamp_ms': 1625570429462, 'start_timestamp_ms': 0, 'task_type': 'EXPORT_IMAGE', 'id': 'XXDJTVZROCDVEH72R65VNUXD', 'name': 'projects/earthengine-legacy/operations/XXDJTVZROCDVEH72R65VNUXD'}\n",
      "{'state': 'READY', 'description': 'bathymetry-20048', 'creation_timestamp_ms': 1625570429939, 'update_timestamp_ms': 1625570429939, 'start_timestamp_ms': 0, 'task_type': 'EXPORT_IMAGE', 'id': 'XK7WR5KA4H4I2SEUHFD4DZM7', 'name': 'projects/earthengine-legacy/operations/XK7WR5KA4H4I2SEUHFD4DZM7'}\n",
      "{'state': 'READY', 'description': 'bathymetry-20049', 'creation_timestamp_ms': 1625570430461, 'update_timestamp_ms': 1625570430461, 'start_timestamp_ms': 0, 'task_type': 'EXPORT_IMAGE', 'id': '7XLLIXJGTVERIT5Y2C43U27U', 'name': 'projects/earthengine-legacy/operations/7XLLIXJGTVERIT5Y2C43U27U'}\n",
      "{'state': 'READY', 'description': 'bathymetry-20050', 'creation_timestamp_ms': 1625570430987, 'update_timestamp_ms': 1625570430987, 'start_timestamp_ms': 0, 'task_type': 'EXPORT_IMAGE', 'id': '5F2ZUO65SHA4XFDDRCHQGTVC', 'name': 'projects/earthengine-legacy/operations/5F2ZUO65SHA4XFDDRCHQGTVC'}\n",
      "{'state': 'READY', 'description': 'bathymetry-20051', 'creation_timestamp_ms': 1625570431395, 'update_timestamp_ms': 1625570431395, 'start_timestamp_ms': 0, 'task_type': 'EXPORT_IMAGE', 'id': 'NRABFLZZWEHYAXOHPR7C3WXG', 'name': 'projects/earthengine-legacy/operations/NRABFLZZWEHYAXOHPR7C3WXG'}\n",
      "{'state': 'READY', 'description': 'bathymetry-20052', 'creation_timestamp_ms': 1625570431840, 'update_timestamp_ms': 1625570431840, 'start_timestamp_ms': 0, 'task_type': 'EXPORT_IMAGE', 'id': '3X3TTYORB63CR5QNBYY4Q3DD', 'name': 'projects/earthengine-legacy/operations/3X3TTYORB63CR5QNBYY4Q3DD'}\n",
      "{'state': 'READY', 'description': 'bathymetry-20053', 'creation_timestamp_ms': 1625570432257, 'update_timestamp_ms': 1625570432257, 'start_timestamp_ms': 0, 'task_type': 'EXPORT_IMAGE', 'id': 'ZNRA7LO3IG7C7XLPZGFECMLS', 'name': 'projects/earthengine-legacy/operations/ZNRA7LO3IG7C7XLPZGFECMLS'}\n",
      "{'state': 'READY', 'description': 'bathymetry-20054', 'creation_timestamp_ms': 1625570432852, 'update_timestamp_ms': 1625570432852, 'start_timestamp_ms': 0, 'task_type': 'EXPORT_IMAGE', 'id': 'AACFU6D74BNTBVT3YGKAHHN4', 'name': 'projects/earthengine-legacy/operations/AACFU6D74BNTBVT3YGKAHHN4'}\n",
      "{'state': 'READY', 'description': 'bathymetry-20055', 'creation_timestamp_ms': 1625570433284, 'update_timestamp_ms': 1625570433284, 'start_timestamp_ms': 0, 'task_type': 'EXPORT_IMAGE', 'id': '6DSOQRQH7IAWXETHIGHBXEVZ', 'name': 'projects/earthengine-legacy/operations/6DSOQRQH7IAWXETHIGHBXEVZ'}\n",
      "{'state': 'READY', 'description': 'bathymetry-20056', 'creation_timestamp_ms': 1625570433761, 'update_timestamp_ms': 1625570433761, 'start_timestamp_ms': 0, 'task_type': 'EXPORT_IMAGE', 'id': 'WAY5NDP3JTFMR46NRRL7JCCD', 'name': 'projects/earthengine-legacy/operations/WAY5NDP3JTFMR46NRRL7JCCD'}\n"
     ]
    },
    {
     "name": "stdout",
     "output_type": "stream",
     "text": [
      "{'state': 'READY', 'description': 'bathymetry-20057', 'creation_timestamp_ms': 1625570434275, 'update_timestamp_ms': 1625570434275, 'start_timestamp_ms': 0, 'task_type': 'EXPORT_IMAGE', 'id': 'KTWUMOB7KR62FZDI5QLWWDKT', 'name': 'projects/earthengine-legacy/operations/KTWUMOB7KR62FZDI5QLWWDKT'}\n",
      "{'state': 'READY', 'description': 'bathymetry-20058', 'creation_timestamp_ms': 1625570434734, 'update_timestamp_ms': 1625570434734, 'start_timestamp_ms': 0, 'task_type': 'EXPORT_IMAGE', 'id': 'SIIQI64D4J6PU3APTM3DRDIS', 'name': 'projects/earthengine-legacy/operations/SIIQI64D4J6PU3APTM3DRDIS'}\n",
      "{'state': 'READY', 'description': 'bathymetry-20059', 'creation_timestamp_ms': 1625570435214, 'update_timestamp_ms': 1625570435214, 'start_timestamp_ms': 0, 'task_type': 'EXPORT_IMAGE', 'id': 'RNJL355VUUSOSIFOWYYSD7XG', 'name': 'projects/earthengine-legacy/operations/RNJL355VUUSOSIFOWYYSD7XG'}\n",
      "{'state': 'READY', 'description': 'bathymetry-20060', 'creation_timestamp_ms': 1625570436572, 'update_timestamp_ms': 1625570436572, 'start_timestamp_ms': 0, 'task_type': 'EXPORT_IMAGE', 'id': 'QHVC3FLEBLLMTLMZFKUPLKUB', 'name': 'projects/earthengine-legacy/operations/QHVC3FLEBLLMTLMZFKUPLKUB'}\n",
      "{'state': 'READY', 'description': 'bathymetry-20061', 'creation_timestamp_ms': 1625570437095, 'update_timestamp_ms': 1625570437095, 'start_timestamp_ms': 0, 'task_type': 'EXPORT_IMAGE', 'id': 'MRA53HJKBV5PSGYFHIHNERCC', 'name': 'projects/earthengine-legacy/operations/MRA53HJKBV5PSGYFHIHNERCC'}\n",
      "{'state': 'READY', 'description': 'bathymetry-20062', 'creation_timestamp_ms': 1625570437520, 'update_timestamp_ms': 1625570437520, 'start_timestamp_ms': 0, 'task_type': 'EXPORT_IMAGE', 'id': 'LQVXWBS5ABMAUTAK2RJNIRXG', 'name': 'projects/earthengine-legacy/operations/LQVXWBS5ABMAUTAK2RJNIRXG'}\n",
      "{'state': 'READY', 'description': 'bathymetry-20063', 'creation_timestamp_ms': 1625570437974, 'update_timestamp_ms': 1625570437974, 'start_timestamp_ms': 0, 'task_type': 'EXPORT_IMAGE', 'id': 'VPBV3S6PGCYCIHUFHAZKNRF6', 'name': 'projects/earthengine-legacy/operations/VPBV3S6PGCYCIHUFHAZKNRF6'}\n",
      "{'state': 'READY', 'description': 'bathymetry-20064', 'creation_timestamp_ms': 1625570438512, 'update_timestamp_ms': 1625570438512, 'start_timestamp_ms': 0, 'task_type': 'EXPORT_IMAGE', 'id': '3U75FESQI7UM3PPRLUR57CHN', 'name': 'projects/earthengine-legacy/operations/3U75FESQI7UM3PPRLUR57CHN'}\n",
      "{'state': 'READY', 'description': 'bathymetry-20065', 'creation_timestamp_ms': 1625570438939, 'update_timestamp_ms': 1625570438939, 'start_timestamp_ms': 0, 'task_type': 'EXPORT_IMAGE', 'id': 'SKMQAGAOMOWUQZJACXBQP4PO', 'name': 'projects/earthengine-legacy/operations/SKMQAGAOMOWUQZJACXBQP4PO'}\n",
      "{'state': 'READY', 'description': 'bathymetry-20066', 'creation_timestamp_ms': 1625570439451, 'update_timestamp_ms': 1625570439451, 'start_timestamp_ms': 0, 'task_type': 'EXPORT_IMAGE', 'id': 'IGP3O6YXYUSBRHE7ZXT4H3HU', 'name': 'projects/earthengine-legacy/operations/IGP3O6YXYUSBRHE7ZXT4H3HU'}\n",
      "{'state': 'READY', 'description': 'bathymetry-20067', 'creation_timestamp_ms': 1625570439944, 'update_timestamp_ms': 1625570439944, 'start_timestamp_ms': 0, 'task_type': 'EXPORT_IMAGE', 'id': 'JCKD2OLKT4BVC5536HUNCPTR', 'name': 'projects/earthengine-legacy/operations/JCKD2OLKT4BVC5536HUNCPTR'}\n",
      "{'state': 'READY', 'description': 'bathymetry-20068', 'creation_timestamp_ms': 1625570440429, 'update_timestamp_ms': 1625570440429, 'start_timestamp_ms': 0, 'task_type': 'EXPORT_IMAGE', 'id': 'FIV4NEWTJACP74DAQ5PDOTGU', 'name': 'projects/earthengine-legacy/operations/FIV4NEWTJACP74DAQ5PDOTGU'}\n",
      "{'state': 'READY', 'description': 'bathymetry-20069', 'creation_timestamp_ms': 1625570440925, 'update_timestamp_ms': 1625570440925, 'start_timestamp_ms': 0, 'task_type': 'EXPORT_IMAGE', 'id': 'YQMQUWVVRSPXL66NT4FIXPKE', 'name': 'projects/earthengine-legacy/operations/YQMQUWVVRSPXL66NT4FIXPKE'}\n",
      "{'state': 'READY', 'description': 'bathymetry-20070', 'creation_timestamp_ms': 1625570441374, 'update_timestamp_ms': 1625570441374, 'start_timestamp_ms': 0, 'task_type': 'EXPORT_IMAGE', 'id': 'WZX6HVNRWS5WLY5LCIB2W7HU', 'name': 'projects/earthengine-legacy/operations/WZX6HVNRWS5WLY5LCIB2W7HU'}\n",
      "{'state': 'READY', 'description': 'bathymetry-20071', 'creation_timestamp_ms': 1625570441829, 'update_timestamp_ms': 1625570441829, 'start_timestamp_ms': 0, 'task_type': 'EXPORT_IMAGE', 'id': 'Y2GOYPZYI5FT5J7SZSTD7ZW4', 'name': 'projects/earthengine-legacy/operations/Y2GOYPZYI5FT5J7SZSTD7ZW4'}\n",
      "{'state': 'READY', 'description': 'bathymetry-20072', 'creation_timestamp_ms': 1625570445442, 'update_timestamp_ms': 1625570445442, 'start_timestamp_ms': 0, 'task_type': 'EXPORT_IMAGE', 'id': 'H32VFDXNJODLDIQNHQM3WYGZ', 'name': 'projects/earthengine-legacy/operations/H32VFDXNJODLDIQNHQM3WYGZ'}\n",
      "{'state': 'READY', 'description': 'bathymetry-20073', 'creation_timestamp_ms': 1625570445889, 'update_timestamp_ms': 1625570445889, 'start_timestamp_ms': 0, 'task_type': 'EXPORT_IMAGE', 'id': 'I2CWJZF3MLJJBLCY2DVBGSN6', 'name': 'projects/earthengine-legacy/operations/I2CWJZF3MLJJBLCY2DVBGSN6'}\n",
      "{'state': 'READY', 'description': 'bathymetry-20074', 'creation_timestamp_ms': 1625570446316, 'update_timestamp_ms': 1625570446316, 'start_timestamp_ms': 0, 'task_type': 'EXPORT_IMAGE', 'id': 'LXCPO6LXVAR3W2K7Y7MFJO3Q', 'name': 'projects/earthengine-legacy/operations/LXCPO6LXVAR3W2K7Y7MFJO3Q'}\n",
      "{'state': 'READY', 'description': 'bathymetry-20075', 'creation_timestamp_ms': 1625570446808, 'update_timestamp_ms': 1625570446808, 'start_timestamp_ms': 0, 'task_type': 'EXPORT_IMAGE', 'id': 'BS2CRREJI4HVHOGUHHRWLAU6', 'name': 'projects/earthengine-legacy/operations/BS2CRREJI4HVHOGUHHRWLAU6'}\n",
      "{'state': 'READY', 'description': 'bathymetry-20076', 'creation_timestamp_ms': 1625570447268, 'update_timestamp_ms': 1625570447268, 'start_timestamp_ms': 0, 'task_type': 'EXPORT_IMAGE', 'id': 'YC45E6FWJXHPIZ3J6JITZDZ4', 'name': 'projects/earthengine-legacy/operations/YC45E6FWJXHPIZ3J6JITZDZ4'}\n",
      "{'state': 'READY', 'description': 'bathymetry-20077', 'creation_timestamp_ms': 1625570447705, 'update_timestamp_ms': 1625570447705, 'start_timestamp_ms': 0, 'task_type': 'EXPORT_IMAGE', 'id': 'UUG4LEOPRYAXY6SZHP4MWOIV', 'name': 'projects/earthengine-legacy/operations/UUG4LEOPRYAXY6SZHP4MWOIV'}\n",
      "{'state': 'READY', 'description': 'bathymetry-20078', 'creation_timestamp_ms': 1625570448210, 'update_timestamp_ms': 1625570448210, 'start_timestamp_ms': 0, 'task_type': 'EXPORT_IMAGE', 'id': '3KLIACJI5J2W7LTQ56PJISVT', 'name': 'projects/earthengine-legacy/operations/3KLIACJI5J2W7LTQ56PJISVT'}\n",
      "{'state': 'READY', 'description': 'bathymetry-20079', 'creation_timestamp_ms': 1625570448688, 'update_timestamp_ms': 1625570448688, 'start_timestamp_ms': 0, 'task_type': 'EXPORT_IMAGE', 'id': 'XGUSPX6SA6JAOFE7DX6A7EI2', 'name': 'projects/earthengine-legacy/operations/XGUSPX6SA6JAOFE7DX6A7EI2'}\n",
      "{'state': 'READY', 'description': 'bathymetry-20080', 'creation_timestamp_ms': 1625570449117, 'update_timestamp_ms': 1625570449117, 'start_timestamp_ms': 0, 'task_type': 'EXPORT_IMAGE', 'id': 'LFO2ZTPKAKCQSDU52WZKHPUS', 'name': 'projects/earthengine-legacy/operations/LFO2ZTPKAKCQSDU52WZKHPUS'}\n",
      "{'state': 'READY', 'description': 'bathymetry-20081', 'creation_timestamp_ms': 1625570449675, 'update_timestamp_ms': 1625570449675, 'start_timestamp_ms': 0, 'task_type': 'EXPORT_IMAGE', 'id': 'AKOLGSQSURA4RVW7VYVWAQZE', 'name': 'projects/earthengine-legacy/operations/AKOLGSQSURA4RVW7VYVWAQZE'}\n",
      "{'state': 'READY', 'description': 'bathymetry-20082', 'creation_timestamp_ms': 1625570450164, 'update_timestamp_ms': 1625570450164, 'start_timestamp_ms': 0, 'task_type': 'EXPORT_IMAGE', 'id': 'OTQZL2K3JUXQECICMRUYGGUV', 'name': 'projects/earthengine-legacy/operations/OTQZL2K3JUXQECICMRUYGGUV'}\n",
      "{'state': 'READY', 'description': 'bathymetry-20083', 'creation_timestamp_ms': 1625570450691, 'update_timestamp_ms': 1625570450691, 'start_timestamp_ms': 0, 'task_type': 'EXPORT_IMAGE', 'id': 'FFITXLRB2KPIRAXMBB7SIDH2', 'name': 'projects/earthengine-legacy/operations/FFITXLRB2KPIRAXMBB7SIDH2'}\n",
      "{'state': 'READY', 'description': 'bathymetry-20084', 'creation_timestamp_ms': 1625570451102, 'update_timestamp_ms': 1625570451102, 'start_timestamp_ms': 0, 'task_type': 'EXPORT_IMAGE', 'id': 'GEEHGEGKSY43KJSUDB4BACQQ', 'name': 'projects/earthengine-legacy/operations/GEEHGEGKSY43KJSUDB4BACQQ'}\n"
     ]
    },
    {
     "name": "stdout",
     "output_type": "stream",
     "text": [
      "{'state': 'READY', 'description': 'bathymetry-20085', 'creation_timestamp_ms': 1625570451650, 'update_timestamp_ms': 1625570451650, 'start_timestamp_ms': 0, 'task_type': 'EXPORT_IMAGE', 'id': 'HPF7BYNGQM344BYGR5NSHHND', 'name': 'projects/earthengine-legacy/operations/HPF7BYNGQM344BYGR5NSHHND'}\n",
      "{'state': 'READY', 'description': 'bathymetry-20086', 'creation_timestamp_ms': 1625570452122, 'update_timestamp_ms': 1625570452122, 'start_timestamp_ms': 0, 'task_type': 'EXPORT_IMAGE', 'id': 'JZMA25RU2JLAFU6I4VN2ARD7', 'name': 'projects/earthengine-legacy/operations/JZMA25RU2JLAFU6I4VN2ARD7'}\n",
      "{'state': 'READY', 'description': 'bathymetry-20087', 'creation_timestamp_ms': 1625570452552, 'update_timestamp_ms': 1625570452552, 'start_timestamp_ms': 0, 'task_type': 'EXPORT_IMAGE', 'id': 'E7AVD7PNK4FAR2A42DW4BMTB', 'name': 'projects/earthengine-legacy/operations/E7AVD7PNK4FAR2A42DW4BMTB'}\n",
      "{'state': 'READY', 'description': 'bathymetry-20088', 'creation_timestamp_ms': 1625570453016, 'update_timestamp_ms': 1625570453016, 'start_timestamp_ms': 0, 'task_type': 'EXPORT_IMAGE', 'id': '57MGOLWJV56G3K4N4SP4R3EL', 'name': 'projects/earthengine-legacy/operations/57MGOLWJV56G3K4N4SP4R3EL'}\n",
      "{'state': 'READY', 'description': 'bathymetry-20089', 'creation_timestamp_ms': 1625570453503, 'update_timestamp_ms': 1625570453503, 'start_timestamp_ms': 0, 'task_type': 'EXPORT_IMAGE', 'id': 'UZAFOLRNCHX5TXYIKCVN65J3', 'name': 'projects/earthengine-legacy/operations/UZAFOLRNCHX5TXYIKCVN65J3'}\n",
      "{'state': 'READY', 'description': 'bathymetry-20090', 'creation_timestamp_ms': 1625570453991, 'update_timestamp_ms': 1625570453991, 'start_timestamp_ms': 0, 'task_type': 'EXPORT_IMAGE', 'id': 'BHGIW36YTU2HMKWP3L5T2BY2', 'name': 'projects/earthengine-legacy/operations/BHGIW36YTU2HMKWP3L5T2BY2'}\n",
      "{'state': 'READY', 'description': 'bathymetry-20091', 'creation_timestamp_ms': 1625570454408, 'update_timestamp_ms': 1625570454408, 'start_timestamp_ms': 0, 'task_type': 'EXPORT_IMAGE', 'id': 'DNWUWTJAWL77V42KLPKTFHIX', 'name': 'projects/earthengine-legacy/operations/DNWUWTJAWL77V42KLPKTFHIX'}\n",
      "{'state': 'READY', 'description': 'bathymetry-20092', 'creation_timestamp_ms': 1625570454857, 'update_timestamp_ms': 1625570454857, 'start_timestamp_ms': 0, 'task_type': 'EXPORT_IMAGE', 'id': '3BLA44VOGWSQWAAYKYZAD6GN', 'name': 'projects/earthengine-legacy/operations/3BLA44VOGWSQWAAYKYZAD6GN'}\n",
      "{'state': 'READY', 'description': 'bathymetry-20093', 'creation_timestamp_ms': 1625570455330, 'update_timestamp_ms': 1625570455330, 'start_timestamp_ms': 0, 'task_type': 'EXPORT_IMAGE', 'id': 'YCT55BXRPWFD3PZDKHVMLJ7K', 'name': 'projects/earthengine-legacy/operations/YCT55BXRPWFD3PZDKHVMLJ7K'}\n",
      "{'state': 'READY', 'description': 'bathymetry-20094', 'creation_timestamp_ms': 1625570455737, 'update_timestamp_ms': 1625570455737, 'start_timestamp_ms': 0, 'task_type': 'EXPORT_IMAGE', 'id': 'AIDS6TBUXS7ABEEADJ5PHZ3I', 'name': 'projects/earthengine-legacy/operations/AIDS6TBUXS7ABEEADJ5PHZ3I'}\n",
      "{'state': 'READY', 'description': 'bathymetry-20095', 'creation_timestamp_ms': 1625570456250, 'update_timestamp_ms': 1625570456250, 'start_timestamp_ms': 0, 'task_type': 'EXPORT_IMAGE', 'id': 'VE3UGZSP5UI64TLTJ4KLRKLP', 'name': 'projects/earthengine-legacy/operations/VE3UGZSP5UI64TLTJ4KLRKLP'}\n",
      "{'state': 'READY', 'description': 'bathymetry-20096', 'creation_timestamp_ms': 1625570456749, 'update_timestamp_ms': 1625570456749, 'start_timestamp_ms': 0, 'task_type': 'EXPORT_IMAGE', 'id': '5DKPNMC5ZQ5FSNP5UTPLNANX', 'name': 'projects/earthengine-legacy/operations/5DKPNMC5ZQ5FSNP5UTPLNANX'}\n",
      "{'state': 'READY', 'description': 'bathymetry-20097', 'creation_timestamp_ms': 1625570457190, 'update_timestamp_ms': 1625570457190, 'start_timestamp_ms': 0, 'task_type': 'EXPORT_IMAGE', 'id': '43NWIHQWKQZAVBL66EXGHGNF', 'name': 'projects/earthengine-legacy/operations/43NWIHQWKQZAVBL66EXGHGNF'}\n",
      "{'state': 'READY', 'description': 'bathymetry-20098', 'creation_timestamp_ms': 1625570457634, 'update_timestamp_ms': 1625570457634, 'start_timestamp_ms': 0, 'task_type': 'EXPORT_IMAGE', 'id': 'EK2GYDVGLRO6ZKQ2JOBTN474', 'name': 'projects/earthengine-legacy/operations/EK2GYDVGLRO6ZKQ2JOBTN474'}\n",
      "{'state': 'READY', 'description': 'bathymetry-20099', 'creation_timestamp_ms': 1625570458101, 'update_timestamp_ms': 1625570458101, 'start_timestamp_ms': 0, 'task_type': 'EXPORT_IMAGE', 'id': 'EL7JUAO2I3YJ276O2JOMRNOC', 'name': 'projects/earthengine-legacy/operations/EL7JUAO2I3YJ276O2JOMRNOC'}\n",
      "{'state': 'READY', 'description': 'bathymetry-20100', 'creation_timestamp_ms': 1625570458607, 'update_timestamp_ms': 1625570458607, 'start_timestamp_ms': 0, 'task_type': 'EXPORT_IMAGE', 'id': 'FSABO7O42WATKAXTAZO7MVDG', 'name': 'projects/earthengine-legacy/operations/FSABO7O42WATKAXTAZO7MVDG'}\n",
      "{'state': 'READY', 'description': 'bathymetry-20101', 'creation_timestamp_ms': 1625570459056, 'update_timestamp_ms': 1625570459056, 'start_timestamp_ms': 0, 'task_type': 'EXPORT_IMAGE', 'id': 'ZNLWIA6W2HOCCDGLXVVLQSG2', 'name': 'projects/earthengine-legacy/operations/ZNLWIA6W2HOCCDGLXVVLQSG2'}\n",
      "{'state': 'READY', 'description': 'bathymetry-20102', 'creation_timestamp_ms': 1625570459486, 'update_timestamp_ms': 1625570459486, 'start_timestamp_ms': 0, 'task_type': 'EXPORT_IMAGE', 'id': 'CXVXU7WGPV6E62ERB6LTI4NN', 'name': 'projects/earthengine-legacy/operations/CXVXU7WGPV6E62ERB6LTI4NN'}\n",
      "{'state': 'READY', 'description': 'bathymetry-20103', 'creation_timestamp_ms': 1625570459920, 'update_timestamp_ms': 1625570459920, 'start_timestamp_ms': 0, 'task_type': 'EXPORT_IMAGE', 'id': 'N2F23AFVZDDBOMPQ7QQZFEE2', 'name': 'projects/earthengine-legacy/operations/N2F23AFVZDDBOMPQ7QQZFEE2'}\n",
      "{'state': 'READY', 'description': 'bathymetry-20104', 'creation_timestamp_ms': 1625570460342, 'update_timestamp_ms': 1625570460342, 'start_timestamp_ms': 0, 'task_type': 'EXPORT_IMAGE', 'id': 'OFTLKBFEA24O5ANZDCBWVPGH', 'name': 'projects/earthengine-legacy/operations/OFTLKBFEA24O5ANZDCBWVPGH'}\n",
      "{'state': 'READY', 'description': 'bathymetry-20105', 'creation_timestamp_ms': 1625570460761, 'update_timestamp_ms': 1625570460761, 'start_timestamp_ms': 0, 'task_type': 'EXPORT_IMAGE', 'id': 'OTJQ5JCFW75XGF5BBWLDVCEI', 'name': 'projects/earthengine-legacy/operations/OTJQ5JCFW75XGF5BBWLDVCEI'}\n",
      "{'state': 'READY', 'description': 'bathymetry-20106', 'creation_timestamp_ms': 1625570461211, 'update_timestamp_ms': 1625570461211, 'start_timestamp_ms': 0, 'task_type': 'EXPORT_IMAGE', 'id': '7Q7TGUIAE3YTMHHRJHNIHT36', 'name': 'projects/earthengine-legacy/operations/7Q7TGUIAE3YTMHHRJHNIHT36'}\n",
      "{'state': 'READY', 'description': 'bathymetry-20107', 'creation_timestamp_ms': 1625570461711, 'update_timestamp_ms': 1625570461711, 'start_timestamp_ms': 0, 'task_type': 'EXPORT_IMAGE', 'id': 'MXFLRYCMEMZDNO33YQ2CW7CO', 'name': 'projects/earthengine-legacy/operations/MXFLRYCMEMZDNO33YQ2CW7CO'}\n",
      "{'state': 'READY', 'description': 'bathymetry-20108', 'creation_timestamp_ms': 1625570462134, 'update_timestamp_ms': 1625570462134, 'start_timestamp_ms': 0, 'task_type': 'EXPORT_IMAGE', 'id': 'AWHUMQJMKNERRJ5B7OKKBPOB', 'name': 'projects/earthengine-legacy/operations/AWHUMQJMKNERRJ5B7OKKBPOB'}\n",
      "{'state': 'READY', 'description': 'bathymetry-20109', 'creation_timestamp_ms': 1625570462542, 'update_timestamp_ms': 1625570462542, 'start_timestamp_ms': 0, 'task_type': 'EXPORT_IMAGE', 'id': 'ZYRG237DZF4YI6KMXBT5XF5M', 'name': 'projects/earthengine-legacy/operations/ZYRG237DZF4YI6KMXBT5XF5M'}\n",
      "{'state': 'READY', 'description': 'bathymetry-20110', 'creation_timestamp_ms': 1625570463006, 'update_timestamp_ms': 1625570463006, 'start_timestamp_ms': 0, 'task_type': 'EXPORT_IMAGE', 'id': '5DURROF5TOX2VFV6CAXS3AKG', 'name': 'projects/earthengine-legacy/operations/5DURROF5TOX2VFV6CAXS3AKG'}\n",
      "{'state': 'READY', 'description': 'bathymetry-20111', 'creation_timestamp_ms': 1625570464460, 'update_timestamp_ms': 1625570464460, 'start_timestamp_ms': 0, 'task_type': 'EXPORT_IMAGE', 'id': '7UEQHDISWTIGCPVY5BSDSYQJ', 'name': 'projects/earthengine-legacy/operations/7UEQHDISWTIGCPVY5BSDSYQJ'}\n",
      "{'state': 'READY', 'description': 'bathymetry-20112', 'creation_timestamp_ms': 1625570467262, 'update_timestamp_ms': 1625570467262, 'start_timestamp_ms': 0, 'task_type': 'EXPORT_IMAGE', 'id': 'TRRDU4KLD7A7KG4YZSTV47LD', 'name': 'projects/earthengine-legacy/operations/TRRDU4KLD7A7KG4YZSTV47LD'}\n"
     ]
    },
    {
     "name": "stdout",
     "output_type": "stream",
     "text": [
      "{'state': 'READY', 'description': 'bathymetry-20113', 'creation_timestamp_ms': 1625570467775, 'update_timestamp_ms': 1625570467775, 'start_timestamp_ms': 0, 'task_type': 'EXPORT_IMAGE', 'id': 'RGTVQBK2OYXQ6EVJE2RLVZQA', 'name': 'projects/earthengine-legacy/operations/RGTVQBK2OYXQ6EVJE2RLVZQA'}\n",
      "{'state': 'READY', 'description': 'bathymetry-20114', 'creation_timestamp_ms': 1625570468196, 'update_timestamp_ms': 1625570468196, 'start_timestamp_ms': 0, 'task_type': 'EXPORT_IMAGE', 'id': '65ZKCTNMOE4I5Z2WPRFX2GNM', 'name': 'projects/earthengine-legacy/operations/65ZKCTNMOE4I5Z2WPRFX2GNM'}\n"
     ]
    }
   ],
   "source": [
    "for task in tasks:\n",
    "    print(task.status())"
   ]
  },
  {
   "cell_type": "code",
   "execution_count": null,
   "metadata": {},
   "outputs": [],
   "source": []
  }
 ],
 "metadata": {
  "kernelspec": {
   "display_name": "Python 3",
   "language": "python",
   "name": "python3"
  },
  "language_info": {
   "codemirror_mode": {
    "name": "ipython",
    "version": 3
   },
   "file_extension": ".py",
   "mimetype": "text/x-python",
   "name": "python",
   "nbconvert_exporter": "python",
   "pygments_lexer": "ipython3",
   "version": "3.8.8"
  }
 },
 "nbformat": 4,
 "nbformat_minor": 4
}
