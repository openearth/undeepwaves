{
 "cells": [
  {
   "cell_type": "code",
   "execution_count": 173,
   "id": "electoral-criterion",
   "metadata": {},
   "outputs": [],
   "source": [
    "import numpy as np\n",
    "import pathlib\n",
    "from scipy.io import FortranFile\n",
    "import pandas as pd"
   ]
  },
  {
   "cell_type": "code",
   "execution_count": 174,
   "id": "experimental-marble",
   "metadata": {},
   "outputs": [],
   "source": [
    "data = '/Users/gils_aa/git/undeepwaves/data/01_sims/U01D000Lp100Tz0e+00a/results/U01D000Lp100Tz0e+00a.nc'\n",
    "\n",
    "\n",
    "result = pd.read_csv(data, delim_whitespace=True, header=None)\n",
    "\n",
    "result = result.values.flatten()\n",
    "result = result[~np.isnan(result)]\n"
   ]
  },
  {
   "cell_type": "code",
   "execution_count": 175,
   "id": "consolidated-guyana",
   "metadata": {},
   "outputs": [
    {
     "data": {
      "text/plain": [
       "(1114112,)"
      ]
     },
     "execution_count": 175,
     "metadata": {},
     "output_type": "execute_result"
    }
   ],
   "source": [
    "result.shape"
   ]
  },
  {
   "cell_type": "code",
   "execution_count": 176,
   "id": "cross-footage",
   "metadata": {},
   "outputs": [],
   "source": [
    "result = np.reshape(result, (-1, 256, 256))\n",
    "\n"
   ]
  },
  {
   "cell_type": "code",
   "execution_count": 177,
   "id": "systematic-differential",
   "metadata": {},
   "outputs": [
    {
     "data": {
      "text/plain": [
       "(17, 256, 256)"
      ]
     },
     "execution_count": 177,
     "metadata": {},
     "output_type": "execute_result"
    }
   ],
   "source": [
    "result.shape"
   ]
  },
  {
   "cell_type": "markdown",
   "id": "quiet-portland",
   "metadata": {},
   "source": [
    "XP = x -coordinate\n",
    "\n",
    "YP = y -coordinate\n",
    "\n",
    "BOTLEV = bottom level (in m)\n",
    "\n",
    "HSIG = significant wave height (in m)\n",
    "\n",
    "TPS = 'smoothed' peak period (in s)\n",
    "\n",
    "RTP = peak period (in s) of the variance density spectrum (relative frequency spectrum)\n",
    "\n",
    "TMM10 = mean absolute wave period (in s)\n",
    "\n",
    "TM01 = mean absolute wave period (in s)\n",
    "\n",
    "TM02 = mean absolute zero-crossing period (in s)\n",
    "\n",
    "DIR = mean wave direction\n",
    "\n",
    "DSPR = directional spreading of the waves (in degrees)\n",
    "\n",
    "DHS = \n",
    "\n",
    "DRTM01 = the difference in average wave period (RTM01) as computed in the last two iterations\n",
    "\n",
    "WATLEV = water level (in m)\n",
    "\n",
    "WIND = wind velocity (vector; in m/s) -> Vect\n",
    "\n",
    "WLEN = average wave length (in m)"
   ]
  },
  {
   "cell_type": "code",
   "execution_count": 185,
   "id": "cardiovascular-fleet",
   "metadata": {},
   "outputs": [
    {
     "data": {
      "text/plain": [
       "array([[38.05, 38.05, 38.05, ..., 38.05, 38.05, 38.05],\n",
       "       [38.05, 38.05, 38.05, ..., 38.05, 38.05, 38.05],\n",
       "       [38.05, 38.05, 38.05, ..., 38.05, 38.05, 38.05],\n",
       "       ...,\n",
       "       [37.98, 37.98, 37.98, ..., 37.98, 37.98, 37.98],\n",
       "       [37.98, 37.98, 37.98, ..., 37.98, 37.98, 37.98],\n",
       "       [37.98, 37.98, 37.98, ..., 37.98, 37.98, 37.98]])"
      ]
     },
     "execution_count": 185,
     "metadata": {},
     "output_type": "execute_result"
    }
   ],
   "source": [
    "result[16]"
   ]
  },
  {
   "cell_type": "code",
   "execution_count": null,
   "id": "substantial-mercy",
   "metadata": {},
   "outputs": [],
   "source": []
  }
 ],
 "metadata": {
  "kernelspec": {
   "display_name": "Python 3",
   "language": "python",
   "name": "python3"
  },
  "language_info": {
   "codemirror_mode": {
    "name": "ipython",
    "version": 3
   },
   "file_extension": ".py",
   "mimetype": "text/x-python",
   "name": "python",
   "nbconvert_exporter": "python",
   "pygments_lexer": "ipython3",
   "version": "3.7.4"
  }
 },
 "nbformat": 4,
 "nbformat_minor": 5
}
